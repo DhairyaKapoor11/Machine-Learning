{
 "cells": [
  {
   "cell_type": "code",
   "execution_count": 2,
   "metadata": {},
   "outputs": [
    {
     "name": "stdout",
     "output_type": "stream",
     "text": [
      "x is smaller than 10 by-5 units\n"
     ]
    }
   ],
   "source": [
    "x = 5\n",
    "if x > 10:\n",
    "    print('x is greater than 10')\n",
    "else:\n",
    "    difference = x - 10\n",
    "    \n",
    "    print('x is smaller than 10 by' +str(difference)+ ' units')"
   ]
  },
  {
   "cell_type": "code",
   "execution_count": 4,
   "metadata": {},
   "outputs": [
    {
     "name": "stdout",
     "output_type": "stream",
     "text": [
      "Enter number4\n",
      "Positive Number\n"
     ]
    }
   ],
   "source": [
    "# Elif\n",
    "num = int(input(\"Enter number\"))\n",
    "\n",
    "if num > 0:\n",
    "    print(\"Positive Number\")\n",
    "    \n",
    "elif num == 0:\n",
    "    print(\"It is a ZERO\")\n",
    "    \n",
    "else:\n",
    "    print(\"Negative Number\")"
   ]
  },
  {
   "cell_type": "code",
   "execution_count": 8,
   "metadata": {},
   "outputs": [
    {
     "name": "stdout",
     "output_type": "stream",
     "text": [
      "Smallest number among element is 2\n"
     ]
    }
   ],
   "source": [
    "n1 = 2\n",
    "n2 = 4\n",
    "n3 = 8\n",
    "\n",
    "if (n1 <= n2) and (n1 <= n3):\n",
    "    smallest = n1\n",
    "elif (n2 <= n1) and (n2 <= n3):\n",
    "    smallest = n2\n",
    "else:\n",
    "    smallest = n3\n",
    "    \n",
    "print(\"Smallest number among element is {}\" .format(smallest))"
   ]
  },
  {
   "cell_type": "code",
   "execution_count": 9,
   "metadata": {},
   "outputs": [
    {
     "name": "stdout",
     "output_type": "stream",
     "text": [
      "False\n"
     ]
    }
   ],
   "source": [
    "if None:\n",
    "    print(\"True\")\n",
    "else:\n",
    "    print(\"False\")"
   ]
  },
  {
   "cell_type": "code",
   "execution_count": null,
   "metadata": {},
   "outputs": [],
   "source": []
  }
 ],
 "metadata": {
  "kernelspec": {
   "display_name": "Python 3",
   "language": "python",
   "name": "python3"
  },
  "language_info": {
   "codemirror_mode": {
    "name": "ipython",
    "version": 3
   },
   "file_extension": ".py",
   "mimetype": "text/x-python",
   "name": "python",
   "nbconvert_exporter": "python",
   "pygments_lexer": "ipython3",
   "version": "3.7.4"
  }
 },
 "nbformat": 4,
 "nbformat_minor": 2
}
