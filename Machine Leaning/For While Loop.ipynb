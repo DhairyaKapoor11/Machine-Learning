{
 "cells": [
  {
   "cell_type": "code",
   "execution_count": 1,
   "metadata": {},
   "outputs": [],
   "source": [
    "subjects = [\"maths\", \"chemistry\", \"english\", \"physics\"]"
   ]
  },
  {
   "cell_type": "code",
   "execution_count": 2,
   "metadata": {},
   "outputs": [
    {
     "name": "stdout",
     "output_type": "stream",
     "text": [
      "5\n",
      "9\n",
      "7\n",
      "7\n"
     ]
    }
   ],
   "source": [
    "print(len(subjects[0]))\n",
    "print(len(subjects[1]))\n",
    "print(len(subjects[2]))\n",
    "print(len(subjects[3]))"
   ]
  },
  {
   "cell_type": "code",
   "execution_count": 3,
   "metadata": {},
   "outputs": [
    {
     "name": "stdout",
     "output_type": "stream",
     "text": [
      "5\n",
      "9\n",
      "7\n",
      "7\n"
     ]
    }
   ],
   "source": [
    "for i in range(4):\n",
    "    print(len(subjects[i]))"
   ]
  },
  {
   "cell_type": "code",
   "execution_count": 4,
   "metadata": {},
   "outputs": [
    {
     "name": "stdout",
     "output_type": "stream",
     "text": [
      "1\n",
      "4\n",
      "7\n"
     ]
    }
   ],
   "source": [
    "for i in range(1, 10, 3):\n",
    "    print(i)"
   ]
  },
  {
   "cell_type": "code",
   "execution_count": 5,
   "metadata": {},
   "outputs": [
    {
     "name": "stdout",
     "output_type": "stream",
     "text": [
      "* \n",
      "* * \n",
      "* * * \n",
      "* * * * \n",
      "* * * * * \n",
      "* * * * \n",
      "* * * \n",
      "* * \n",
      "* \n"
     ]
    }
   ],
   "source": [
    "str1 = ''\n",
    "for i in range(0, 9):\n",
    "    if i < 5:\n",
    "        str1 += '* '\n",
    "        print(str1)\n",
    "        \n",
    "    elif i > 4:\n",
    "        str1 = str1[:-2]\n",
    "        print(str1)\n",
    "    "
   ]
  },
  {
   "cell_type": "code",
   "execution_count": 7,
   "metadata": {},
   "outputs": [
    {
     "name": "stdout",
     "output_type": "stream",
     "text": [
      "H 0\n",
      "e 1\n",
      "l 2\n",
      "l 3\n",
      "o 4\n",
      "  5\n",
      "W 6\n",
      "o 7\n",
      "r 8\n",
      "l 9\n",
      "d 10\n"
     ]
    }
   ],
   "source": [
    "string = \"Hello World\"\n",
    "for n, alphabet in enumerate(string):\n",
    "    print(alphabet, n)"
   ]
  },
  {
   "cell_type": "code",
   "execution_count": 8,
   "metadata": {},
   "outputs": [
    {
     "name": "stdout",
     "output_type": "stream",
     "text": [
      "Enter number3\n",
      "3 is Prime Number\n"
     ]
    }
   ],
   "source": [
    "num = int(input(\"Enter number\"))\n",
    "\n",
    "isDivisible = False;\n",
    "i = 2;\n",
    "\n",
    "while i < num:\n",
    "    if num % i == 0:\n",
    "        isDivisible = True;\n",
    "        print(\"{} is divisible by {}\".format(num, i))\n",
    "        \n",
    "    i += 1\n",
    "    \n",
    "if isDivisible:\n",
    "    print('{} is not Prime Number'.format(num))\n",
    "    \n",
    "else:\n",
    "    print('{} is Prime Number'.format(num))"
   ]
  },
  {
   "cell_type": "code",
   "execution_count": null,
   "metadata": {},
   "outputs": [],
   "source": []
  }
 ],
 "metadata": {
  "kernelspec": {
   "display_name": "Python 3",
   "language": "python",
   "name": "python3"
  },
  "language_info": {
   "codemirror_mode": {
    "name": "ipython",
    "version": 3
   },
   "file_extension": ".py",
   "mimetype": "text/x-python",
   "name": "python",
   "nbconvert_exporter": "python",
   "pygments_lexer": "ipython3",
   "version": "3.7.4"
  }
 },
 "nbformat": 4,
 "nbformat_minor": 2
}
