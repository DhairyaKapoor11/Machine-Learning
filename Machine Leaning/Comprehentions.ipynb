{
 "cells": [
  {
   "cell_type": "code",
   "execution_count": 2,
   "metadata": {},
   "outputs": [
    {
     "name": "stdout",
     "output_type": "stream",
     "text": [
      "[1, 4, 9, 16, 25, 36, 49, 64, 81]\n"
     ]
    }
   ],
   "source": [
    "square_list = []\n",
    "for x in range(1, 10):\n",
    "    square_list.append(x**2)\n",
    "print(square_list)"
   ]
  },
  {
   "cell_type": "code",
   "execution_count": 3,
   "metadata": {},
   "outputs": [
    {
     "name": "stdout",
     "output_type": "stream",
     "text": [
      "[1, 4, 9, 16, 25, 36, 49, 64, 81]\n"
     ]
    }
   ],
   "source": [
    "square_list = [x**2 for x in range(1, 10)]\n",
    "print(square_list)"
   ]
  },
  {
   "cell_type": "code",
   "execution_count": 4,
   "metadata": {},
   "outputs": [],
   "source": [
    "paragraph = [\"Today's weather is wonderful.\", \"Hello World\", \"Awesome Day\"]"
   ]
  },
  {
   "cell_type": "code",
   "execution_count": 9,
   "metadata": {},
   "outputs": [],
   "source": [
    "# ['Today', 'weather', 'is', 'wonderful.', 'Hello', 'World', 'Awesome', 'Day']"
   ]
  },
  {
   "cell_type": "code",
   "execution_count": 11,
   "metadata": {},
   "outputs": [
    {
     "name": "stdout",
     "output_type": "stream",
     "text": [
      "[\"Today's\", 'weather', 'is', 'wonderful.', 'Hello', 'World', 'Awesome', 'Day']\n"
     ]
    }
   ],
   "source": [
    "single_word_list = []\n",
    "for sentence in paragraph:\n",
    "    for word in sentence.split():\n",
    "        single_word_list.append(word)\n",
    "        \n",
    "print(single_word_list)"
   ]
  },
  {
   "cell_type": "code",
   "execution_count": 12,
   "metadata": {},
   "outputs": [
    {
     "name": "stdout",
     "output_type": "stream",
     "text": [
      "[\"Today's\", 'weather', 'is', 'wonderful.', 'Hello', 'World', 'Awesome', 'Day']\n"
     ]
    }
   ],
   "source": [
    "single_word_list = [word for sentence in paragraph for word in sentence.split()]\n",
    "print(single_word_list)"
   ]
  },
  {
   "cell_type": "code",
   "execution_count": 13,
   "metadata": {},
   "outputs": [
    {
     "name": "stdout",
     "output_type": "stream",
     "text": [
      "['is', 'Awesome']\n"
     ]
    }
   ],
   "source": [
    "vowels = ['a', 'e', 'i', 'o', 'u']\n",
    "vowels_from_sentences = []\n",
    "for sentence in paragraph:\n",
    "    for word in sentence.split():\n",
    "        if word[0].lower() in vowels:\n",
    "            vowels_from_sentences.append(word)\n",
    "\n",
    "print(vowels_from_sentences)"
   ]
  },
  {
   "cell_type": "code",
   "execution_count": 15,
   "metadata": {},
   "outputs": [
    {
     "name": "stdout",
     "output_type": "stream",
     "text": [
      "['is', 'Awesome']\n"
     ]
    }
   ],
   "source": [
    "vowels = [word for sentences in paragraph for word in sentences.split() if word[0].lower() in vowels]\n",
    "print(vowels)"
   ]
  },
  {
   "cell_type": "code",
   "execution_count": 16,
   "metadata": {},
   "outputs": [
    {
     "name": "stdout",
     "output_type": "stream",
     "text": [
      "{0: 0, 1: 1, 2: 4, 3: 9, 4: 16, 5: 25, 6: 36, 7: 49, 8: 64, 9: 81, 10: 100, 11: 121, 12: 144, 13: 169, 14: 196, 15: 225, 16: 256, 17: 289, 18: 324, 19: 361, 20: 400, 21: 441, 22: 484, 23: 529, 24: 576}\n"
     ]
    }
   ],
   "source": [
    "squared_dictionary = {num: num ** 2 for num in range(0, 25)}\n",
    "print(squared_dictionary)"
   ]
  },
  {
   "cell_type": "code",
   "execution_count": 18,
   "metadata": {},
   "outputs": [],
   "source": [
    "student_data = {1:['Dhairya', 42], 2:['Meena', 1], 3:['Riya', 11]}"
   ]
  },
  {
   "cell_type": "code",
   "execution_count": 21,
   "metadata": {},
   "outputs": [
    {
     "name": "stdout",
     "output_type": "stream",
     "text": [
      "{2: 'Meena'}\n"
     ]
    }
   ],
   "source": [
    "dict = {}\n",
    "for roll_number, details in student_data.items():\n",
    "    if roll_number % 2 == 0:\n",
    "        dict[roll_number] = details[0]\n",
    "        \n",
    "print(dict)\n",
    "    "
   ]
  },
  {
   "cell_type": "code",
   "execution_count": 23,
   "metadata": {},
   "outputs": [
    {
     "name": "stdout",
     "output_type": "stream",
     "text": [
      "{2: 'Meena'}\n"
     ]
    }
   ],
   "source": [
    "names = {roll_number: details[0] for roll_number, details in student_data.items() if roll_number % 2 == 0}\n",
    "print(names)"
   ]
  },
  {
   "cell_type": "code",
   "execution_count": null,
   "metadata": {},
   "outputs": [],
   "source": []
  }
 ],
 "metadata": {
  "kernelspec": {
   "display_name": "Python 3",
   "language": "python",
   "name": "python3"
  },
  "language_info": {
   "codemirror_mode": {
    "name": "ipython",
    "version": 3
   },
   "file_extension": ".py",
   "mimetype": "text/x-python",
   "name": "python",
   "nbconvert_exporter": "python",
   "pygments_lexer": "ipython3",
   "version": "3.7.4"
  }
 },
 "nbformat": 4,
 "nbformat_minor": 2
}
