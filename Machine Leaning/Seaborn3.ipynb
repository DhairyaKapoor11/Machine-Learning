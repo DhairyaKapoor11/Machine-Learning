{
 "cells": [
  {
   "cell_type": "code",
   "execution_count": 2,
   "metadata": {},
   "outputs": [],
   "source": [
    "import numpy as np"
   ]
  },
  {
   "cell_type": "code",
   "execution_count": 3,
   "metadata": {},
   "outputs": [],
   "source": [
    "import pandas as pd"
   ]
  },
  {
   "cell_type": "code",
   "execution_count": 4,
   "metadata": {},
   "outputs": [],
   "source": [
    "import matplotlib.pyplot as plt\n",
    "import seaborn as sns"
   ]
  },
  {
   "cell_type": "code",
   "execution_count": 5,
   "metadata": {},
   "outputs": [],
   "source": [
    "sns.set(style=\"white\")"
   ]
  },
  {
   "cell_type": "code",
   "execution_count": 6,
   "metadata": {},
   "outputs": [],
   "source": [
    "market = pd.read_csv(\"datas/market_fact.csv\")\n",
    "orders = pd.read_csv(\"datas/orders_dimen.csv\")\n",
    "prod = pd.read_csv(\"datas/prod_dimen.csv\")\n",
    "shipping = pd.read_csv(\"datas/shipping_dimen.csv\")"
   ]
  },
  {
   "cell_type": "code",
   "execution_count": 7,
   "metadata": {},
   "outputs": [],
   "source": [
    "# boxplots\n"
   ]
  },
  {
   "cell_type": "code",
   "execution_count": 8,
   "metadata": {},
   "outputs": [
    {
     "data": {
      "image/png": "[encoded data removed]",
      "text/plain": [
       "<Figure size 432x288 with 1 Axes>"
      ]
     },
     "metadata": {},
     "output_type": "display_data"
    }
   ],
   "source": [
    "sns.boxplot(y=market['Sales'])\n",
    "plt.yscale('log')\n",
    "plt.show()"
   ]
  },
  {
   "cell_type": "code",
   "execution_count": 9,
   "metadata": {},
   "outputs": [
    {
     "data": {
      "text/html": [
       "<div>\n",
       "<style scoped>\n",
       "    .dataframe tbody tr th:only-of-type {\n",
       "        vertical-align: middle;\n",
       "    }\n",
       "\n",
       "    .dataframe tbody tr th {\n",
       "        vertical-align: top;\n",
       "    }\n",
       "\n",
       "    .dataframe thead th {\n",
       "        text-align: right;\n",
       "    }\n",
       "</style>\n",
       "<table border=\"1\" class=\"dataframe\">\n",
       "  <thead>\n",
       "    <tr style=\"text-align: right;\">\n",
       "      <th></th>\n",
       "      <th>Product_Category</th>\n",
       "      <th>Product_Sub_Category</th>\n",
       "      <th>Prod_id</th>\n",
       "      <th>Ord_id</th>\n",
       "      <th>Ship_id</th>\n",
       "      <th>Cust_id</th>\n",
       "      <th>Sales</th>\n",
       "      <th>Discount</th>\n",
       "      <th>Order_Quantity</th>\n",
       "      <th>Profit</th>\n",
       "      <th>Shipping_Cost</th>\n",
       "      <th>Product_Base_Margin</th>\n",
       "    </tr>\n",
       "  </thead>\n",
       "  <tbody>\n",
       "    <tr>\n",
       "      <td>0</td>\n",
       "      <td>OFFICE SUPPLIES</td>\n",
       "      <td>STORAGE &amp; ORGANIZATION</td>\n",
       "      <td>Prod_1</td>\n",
       "      <td>Ord_1184</td>\n",
       "      <td>SHP_1634</td>\n",
       "      <td>Cust_452</td>\n",
       "      <td>1974.66</td>\n",
       "      <td>0.06</td>\n",
       "      <td>32</td>\n",
       "      <td>-929.68</td>\n",
       "      <td>35.00</td>\n",
       "      <td>0.80</td>\n",
       "    </tr>\n",
       "    <tr>\n",
       "      <td>1</td>\n",
       "      <td>OFFICE SUPPLIES</td>\n",
       "      <td>STORAGE &amp; ORGANIZATION</td>\n",
       "      <td>Prod_1</td>\n",
       "      <td>Ord_4546</td>\n",
       "      <td>SHP_6327</td>\n",
       "      <td>Cust_1474</td>\n",
       "      <td>5208.78</td>\n",
       "      <td>0.05</td>\n",
       "      <td>34</td>\n",
       "      <td>1547.78</td>\n",
       "      <td>7.07</td>\n",
       "      <td>0.59</td>\n",
       "    </tr>\n",
       "    <tr>\n",
       "      <td>2</td>\n",
       "      <td>OFFICE SUPPLIES</td>\n",
       "      <td>STORAGE &amp; ORGANIZATION</td>\n",
       "      <td>Prod_1</td>\n",
       "      <td>Ord_5355</td>\n",
       "      <td>SHP_7481</td>\n",
       "      <td>Cust_1802</td>\n",
       "      <td>123.85</td>\n",
       "      <td>0.09</td>\n",
       "      <td>16</td>\n",
       "      <td>-71.44</td>\n",
       "      <td>6.50</td>\n",
       "      <td>0.59</td>\n",
       "    </tr>\n",
       "    <tr>\n",
       "      <td>3</td>\n",
       "      <td>OFFICE SUPPLIES</td>\n",
       "      <td>STORAGE &amp; ORGANIZATION</td>\n",
       "      <td>Prod_1</td>\n",
       "      <td>Ord_209</td>\n",
       "      <td>SHP_286</td>\n",
       "      <td>Cust_45</td>\n",
       "      <td>127.80</td>\n",
       "      <td>0.07</td>\n",
       "      <td>8</td>\n",
       "      <td>-30.48</td>\n",
       "      <td>7.51</td>\n",
       "      <td>0.57</td>\n",
       "    </tr>\n",
       "    <tr>\n",
       "      <td>4</td>\n",
       "      <td>OFFICE SUPPLIES</td>\n",
       "      <td>STORAGE &amp; ORGANIZATION</td>\n",
       "      <td>Prod_1</td>\n",
       "      <td>Ord_1375</td>\n",
       "      <td>SHP_1895</td>\n",
       "      <td>Cust_498</td>\n",
       "      <td>1538.17</td>\n",
       "      <td>0.02</td>\n",
       "      <td>39</td>\n",
       "      <td>-1119.64</td>\n",
       "      <td>35.00</td>\n",
       "      <td>0.80</td>\n",
       "    </tr>\n",
       "  </tbody>\n",
       "</table>\n",
       "</div>"
      ],
      "text/plain": [
       "  Product_Category    Product_Sub_Category Prod_id    Ord_id   Ship_id  \\\n",
       "0  OFFICE SUPPLIES  STORAGE & ORGANIZATION  Prod_1  Ord_1184  SHP_1634   \n",
       "1  OFFICE SUPPLIES  STORAGE & ORGANIZATION  Prod_1  Ord_4546  SHP_6327   \n",
       "2  OFFICE SUPPLIES  STORAGE & ORGANIZATION  Prod_1  Ord_5355  SHP_7481   \n",
       "3  OFFICE SUPPLIES  STORAGE & ORGANIZATION  Prod_1   Ord_209   SHP_286   \n",
       "4  OFFICE SUPPLIES  STORAGE & ORGANIZATION  Prod_1  Ord_1375  SHP_1895   \n",
       "\n",
       "     Cust_id    Sales  Discount  Order_Quantity   Profit  Shipping_Cost  \\\n",
       "0   Cust_452  1974.66      0.06              32  -929.68          35.00   \n",
       "1  Cust_1474  5208.78      0.05              34  1547.78           7.07   \n",
       "2  Cust_1802   123.85      0.09              16   -71.44           6.50   \n",
       "3    Cust_45   127.80      0.07               8   -30.48           7.51   \n",
       "4   Cust_498  1538.17      0.02              39 -1119.64          35.00   \n",
       "\n",
       "   Product_Base_Margin  \n",
       "0                 0.80  \n",
       "1                 0.59  \n",
       "2                 0.59  \n",
       "3                 0.57  \n",
       "4                 0.80  "
      ]
     },
     "execution_count": 9,
     "metadata": {},
     "output_type": "execute_result"
    }
   ],
   "source": [
    "df = pd.merge(prod, market, how='inner', on='Prod_id')\n",
    "df.head()\n"
   ]
  },
  {
   "cell_type": "code",
   "execution_count": 10,
   "metadata": {},
   "outputs": [
    {
     "data": {
      "image/png": "[encoded data removed]",
      "text/plain": [
       "<Figure size 432x288 with 1 Axes>"
      ]
     },
     "metadata": {},
     "output_type": "display_data"
    }
   ],
   "source": [
    "sns.boxplot(x='Product_Category', y='Sales', data=df)\n",
    "plt.yscale('log')\n",
    "plt.show()"
   ]
  },
  {
   "cell_type": "code",
   "execution_count": 11,
   "metadata": {},
   "outputs": [
    {
     "data": {
      "image/png": "[encoded data removed]",
      "text/plain": [
       "<Figure size 432x288 with 1 Axes>"
      ]
     },
     "metadata": {},
     "output_type": "display_data"
    }
   ],
   "source": [
    "sns.boxplot(x='Product_Category', y='Profit', data = df)\n",
    "plt.show()"
   ]
  },
  {
   "cell_type": "code",
   "execution_count": 12,
   "metadata": {},
   "outputs": [
    {
     "data": {
      "image/png": "[encoded data removed]",
      "text/plain": [
       "<Figure size 432x288 with 1 Axes>"
      ]
     },
     "metadata": {},
     "output_type": "display_data"
    }
   ],
   "source": [
    "sns.barplot(x='Product_Category', y='Sales', data = df)\n",
    "plt.show()"
   ]
  },
  {
   "cell_type": "code",
   "execution_count": null,
   "metadata": {},
   "outputs": [],
   "source": []
  }
 ],
 "metadata": {
  "kernelspec": {
   "display_name": "Python 3",
   "language": "python",
   "name": "python3"
  },
  "language_info": {
   "codemirror_mode": {
    "name": "ipython",
    "version": 3
   },
   "file_extension": ".py",
   "mimetype": "text/x-python",
   "name": "python",
   "nbconvert_exporter": "python",
   "pygments_lexer": "ipython3",
   "version": "3.7.4"
  }
 },
 "nbformat": 4,
 "nbformat_minor": 2
}
